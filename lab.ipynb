{
 "cells": [
  {
   "cell_type": "code",
   "execution_count": 8,
   "metadata": {},
   "outputs": [],
   "source": [
    "import pandas as pd\n",
    "import glob \n"
   ]
  },
  {
   "cell_type": "code",
   "execution_count": 18,
   "metadata": {},
   "outputs": [],
   "source": [
    "all_files = glob.glob(\"*.csv\")"
   ]
  },
  {
   "cell_type": "code",
   "execution_count": 19,
   "metadata": {},
   "outputs": [
    {
     "name": "stdout",
     "output_type": "stream",
     "text": [
      "['Sales_April_2019.csv', 'Sales_August_2019.csv', 'Sales_December_2019.csv', 'Sales_February_2019.csv', 'Sales_January_2019.csv', 'Sales_July_2019.csv', 'Sales_June_2019.csv', 'Sales_March_2019.csv', 'Sales_May_2019.csv', 'Sales_November_2019.csv', 'Sales_October_2019.csv', 'Sales_September_2019.csv']\n"
     ]
    }
   ],
   "source": [
    "print(all_files)"
   ]
  },
  {
   "cell_type": "code",
   "execution_count": 21,
   "metadata": {},
   "outputs": [],
   "source": [
    "li = []\n",
    "for filename in all_files:\n",
    "    df = pd.read_csv(filename, index_col=None, header=0)\n",
    "    li.append(df)\n",
    "\n",
    "frame = pd.concat(li, axis=0, ignore_index=True)   "
   ]
  },
  {
   "cell_type": "code",
   "execution_count": 22,
   "metadata": {},
   "outputs": [
    {
     "name": "stdout",
     "output_type": "stream",
     "text": [
      "       Order ID                     Product Quantity Ordered Price Each  \\\n",
      "0        176558        USB-C Charging Cable                2      11.95   \n",
      "1           NaN                         NaN              NaN        NaN   \n",
      "2        176559  Bose SoundSport Headphones                1      99.99   \n",
      "3        176560                Google Phone                1        600   \n",
      "4        176560            Wired Headphones                1      11.99   \n",
      "...         ...                         ...              ...        ...   \n",
      "186845   259353      AAA Batteries (4-pack)                3       2.99   \n",
      "186846   259354                      iPhone                1        700   \n",
      "186847   259355                      iPhone                1        700   \n",
      "186848   259356      34in Ultrawide Monitor                1     379.99   \n",
      "186849   259357        USB-C Charging Cable                1      11.95   \n",
      "\n",
      "            Order Date                         Purchase Address  \n",
      "0       04/19/19 08:46             917 1st St, Dallas, TX 75001  \n",
      "1                  NaN                                      NaN  \n",
      "2       04/07/19 22:30        682 Chestnut St, Boston, MA 02215  \n",
      "3       04/12/19 14:38     669 Spruce St, Los Angeles, CA 90001  \n",
      "4       04/12/19 14:38     669 Spruce St, Los Angeles, CA 90001  \n",
      "...                ...                                      ...  \n",
      "186845  09/17/19 20:56   840 Highland St, Los Angeles, CA 90001  \n",
      "186846  09/01/19 16:00  216 Dogwood St, San Francisco, CA 94016  \n",
      "186847  09/23/19 07:39     220 12th St, San Francisco, CA 94016  \n",
      "186848  09/19/19 17:30   511 Forest St, San Francisco, CA 94016  \n",
      "186849  09/30/19 00:18   250 Meadow St, San Francisco, CA 94016  \n",
      "\n",
      "[186850 rows x 6 columns]\n"
     ]
    }
   ],
   "source": [
    "print(frame)"
   ]
  },
  {
   "cell_type": "code",
   "execution_count": null,
   "metadata": {},
   "outputs": [],
   "source": []
  }
 ],
 "metadata": {
  "kernelspec": {
   "display_name": "Python 3",
   "language": "python",
   "name": "python3"
  },
  "language_info": {
   "codemirror_mode": {
    "name": "ipython",
    "version": 3
   },
   "file_extension": ".py",
   "mimetype": "text/x-python",
   "name": "python",
   "nbconvert_exporter": "python",
   "pygments_lexer": "ipython3",
   "version": "3.8.5"
  }
 },
 "nbformat": 4,
 "nbformat_minor": 4
}
